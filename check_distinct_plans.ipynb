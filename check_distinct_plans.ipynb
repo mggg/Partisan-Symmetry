{
 "cells": [
  {
   "cell_type": "markdown",
   "metadata": {},
   "source": [
    "## Checking distinct plans\n",
    "This notebook checks how many distinct plans our ensembles generated for each of Texas, Utah, and North Carolina. We assume the repeated plans occur during the proposal step in the ReCom chain, when GerryChain combines two adjacent districts and happens to cut them in half back into their original shapes. For more information, please see: https://arxiv.org/abs/1911.05725"
   ]
  },
  {
   "cell_type": "code",
   "execution_count": 2,
   "metadata": {},
   "outputs": [],
   "source": [
    "import pandas as pd"
   ]
  },
  {
   "cell_type": "code",
   "execution_count": 3,
   "metadata": {},
   "outputs": [
    {
     "name": "stdout",
     "output_type": "stream",
     "text": [
      "99687\n",
      "There are 313 duplicate plans from TX-SEN12\n"
     ]
    }
   ],
   "source": [
    "state_name = \"texas\"\n",
    "state_abbr = \"TX\"\n",
    "election_name = \"SEN12\"\n",
    "datadir = \"./\" + state_abbr + \"output/\"\n",
    "\n",
    "max_steps = 100000\n",
    "step_size = 10000\n",
    "\n",
    "ts = [x*step_size for x in range(1,int(max_steps/step_size)+1)]\n",
    "\n",
    "df = pd.DataFrame(columns = ['seats','mm','pg','vs','eg','ce'])\n",
    "\n",
    "for t in ts:\n",
    "    tempdf = pd.read_csv(datadir + state_name + election_name +\"_data\"+str(t)+\".csv\", delimiter=',')\n",
    "    df = pd.concat([df, tempdf], ignore_index=True)\n",
    "    \n",
    "no_dups = df.drop_duplicates()\n",
    "print(len(no_dups))\n",
    "print(\"There are \" + str(100000 - len(no_dups)) + \" duplicate plans from \" + state_abbr + \"-\" + election_name)"
   ]
  },
  {
   "cell_type": "code",
   "execution_count": 4,
   "metadata": {},
   "outputs": [
    {
     "name": "stdout",
     "output_type": "stream",
     "text": [
      "99687\n",
      "There are 313 duplicate plans from NC-SEN16\n"
     ]
    }
   ],
   "source": [
    "state_name = \"northcarolina\"\n",
    "state_abbr = \"NC\"\n",
    "election_name = \"SEN16\"\n",
    "datadir = \"./\" + state_abbr + \"output/\"\n",
    "\n",
    "max_steps = 100000\n",
    "step_size = 10000\n",
    "\n",
    "ts = [x*step_size for x in range(1,int(max_steps/step_size)+1)]\n",
    "\n",
    "df = pd.DataFrame(columns = ['seats','mm','pg','vs','eg','ce'])\n",
    "\n",
    "for t in ts:\n",
    "    tempdf = pd.read_csv(datadir + state_name + election_name +\"_data\"+str(t)+\".csv\", delimiter=',')\n",
    "    df = pd.concat([df, tempdf], ignore_index=True)\n",
    "    \n",
    "no_dups = df.drop_duplicates()\n",
    "print(len(no_dups))\n",
    "print(\"There are \" + str(100000 - len(no_dups)) + \" duplicate plans from \" + state_abbr + \"-\" + election_name)"
   ]
  },
  {
   "cell_type": "code",
   "execution_count": 9,
   "metadata": {},
   "outputs": [
    {
     "name": "stdout",
     "output_type": "stream",
     "text": [
      "99863\n",
      "There are 137 duplicate plans from UT-SEN16\n"
     ]
    }
   ],
   "source": [
    "state_name = \"utah\"\n",
    "state_abbr = \"UT\"\n",
    "election_name = \"SEN16\"\n",
    "datadir = \"./\" + state_abbr + \"output/\"\n",
    "\n",
    "max_steps = 100000\n",
    "step_size = 10000\n",
    "\n",
    "ts = [x*step_size for x in range(1,int(max_steps/step_size)+1)]\n",
    "\n",
    "df = pd.DataFrame(columns = ['seats','mm','pg','vs','eg','ce'])\n",
    "\n",
    "for t in ts:\n",
    "    tempdf = pd.read_csv(datadir + state_name + election_name +\"_data\"+str(t)+\".csv\", delimiter=',')\n",
    "    df = pd.concat([df, tempdf], ignore_index=True)\n",
    "    \n",
    "no_dups = df.drop_duplicates()\n",
    "print(len(no_dups))\n",
    "print(\"There are \" + str(100000 - len(no_dups)) + \" duplicate plans from \" + state_abbr + \"-\" + election_name)"
   ]
  },
  {
   "cell_type": "code",
   "execution_count": 10,
   "metadata": {},
   "outputs": [],
   "source": [
    "dups = df.duplicated()"
   ]
  },
  {
   "cell_type": "code",
   "execution_count": 11,
   "metadata": {},
   "outputs": [
    {
     "data": {
      "text/html": [
       "<div>\n",
       "<style scoped>\n",
       "    .dataframe tbody tr th:only-of-type {\n",
       "        vertical-align: middle;\n",
       "    }\n",
       "\n",
       "    .dataframe tbody tr th {\n",
       "        vertical-align: top;\n",
       "    }\n",
       "\n",
       "    .dataframe thead th {\n",
       "        text-align: right;\n",
       "    }\n",
       "</style>\n",
       "<table border=\"1\" class=\"dataframe\">\n",
       "  <thead>\n",
       "    <tr style=\"text-align: right;\">\n",
       "      <th></th>\n",
       "      <th>seats</th>\n",
       "      <th>mm</th>\n",
       "      <th>pg</th>\n",
       "      <th>vs</th>\n",
       "      <th>eg</th>\n",
       "      <th>ce</th>\n",
       "    </tr>\n",
       "  </thead>\n",
       "  <tbody>\n",
       "    <tr>\n",
       "      <th>97328</th>\n",
       "      <td>4</td>\n",
       "      <td>-0.003024</td>\n",
       "      <td>0.006048</td>\n",
       "      <td>(0.603359375817096, 0.7097142614528935, 0.7202...</td>\n",
       "      <td>0.068948</td>\n",
       "      <td>367</td>\n",
       "    </tr>\n",
       "    <tr>\n",
       "      <th>97329</th>\n",
       "      <td>4</td>\n",
       "      <td>-0.003024</td>\n",
       "      <td>0.006048</td>\n",
       "      <td>(0.603359375817096, 0.7097142614528935, 0.7202...</td>\n",
       "      <td>0.068948</td>\n",
       "      <td>367</td>\n",
       "    </tr>\n",
       "    <tr>\n",
       "      <th>98352</th>\n",
       "      <td>4</td>\n",
       "      <td>0.006269</td>\n",
       "      <td>0.012539</td>\n",
       "      <td>(0.7443172638857475, 0.7041018239988872, 0.634...</td>\n",
       "      <td>0.068948</td>\n",
       "      <td>366</td>\n",
       "    </tr>\n",
       "    <tr>\n",
       "      <th>98354</th>\n",
       "      <td>4</td>\n",
       "      <td>0.006269</td>\n",
       "      <td>0.012539</td>\n",
       "      <td>(0.7443172638857475, 0.7041018239988872, 0.634...</td>\n",
       "      <td>0.068948</td>\n",
       "      <td>366</td>\n",
       "    </tr>\n",
       "    <tr>\n",
       "      <th>98637</th>\n",
       "      <td>4</td>\n",
       "      <td>0.041231</td>\n",
       "      <td>0.082463</td>\n",
       "      <td>(0.8193826640438713, 0.7135708033641588, 0.518...</td>\n",
       "      <td>0.068948</td>\n",
       "      <td>278</td>\n",
       "    </tr>\n",
       "    <tr>\n",
       "      <th>98638</th>\n",
       "      <td>4</td>\n",
       "      <td>0.041231</td>\n",
       "      <td>0.082463</td>\n",
       "      <td>(0.8193826640438713, 0.7135708033641588, 0.518...</td>\n",
       "      <td>0.068948</td>\n",
       "      <td>278</td>\n",
       "    </tr>\n",
       "    <tr>\n",
       "      <th>99188</th>\n",
       "      <td>4</td>\n",
       "      <td>0.000456</td>\n",
       "      <td>0.000912</td>\n",
       "      <td>(0.7714200650469009, 0.6586807089466523, 0.687...</td>\n",
       "      <td>0.068948</td>\n",
       "      <td>229</td>\n",
       "    </tr>\n",
       "    <tr>\n",
       "      <th>99189</th>\n",
       "      <td>4</td>\n",
       "      <td>0.000456</td>\n",
       "      <td>0.000912</td>\n",
       "      <td>(0.7714200650469009, 0.6586807089466523, 0.687...</td>\n",
       "      <td>0.068948</td>\n",
       "      <td>229</td>\n",
       "    </tr>\n",
       "    <tr>\n",
       "      <th>99681</th>\n",
       "      <td>4</td>\n",
       "      <td>0.008398</td>\n",
       "      <td>0.016796</td>\n",
       "      <td>(0.834515080445955, 0.6925085186587433, 0.5793...</td>\n",
       "      <td>0.068948</td>\n",
       "      <td>305</td>\n",
       "    </tr>\n",
       "    <tr>\n",
       "      <th>99682</th>\n",
       "      <td>4</td>\n",
       "      <td>0.008398</td>\n",
       "      <td>0.016796</td>\n",
       "      <td>(0.834515080445955, 0.6925085186587433, 0.5793...</td>\n",
       "      <td>0.068948</td>\n",
       "      <td>305</td>\n",
       "    </tr>\n",
       "  </tbody>\n",
       "</table>\n",
       "</div>"
      ],
      "text/plain": [
       "      seats        mm        pg  \\\n",
       "97328     4 -0.003024  0.006048   \n",
       "97329     4 -0.003024  0.006048   \n",
       "98352     4  0.006269  0.012539   \n",
       "98354     4  0.006269  0.012539   \n",
       "98637     4  0.041231  0.082463   \n",
       "98638     4  0.041231  0.082463   \n",
       "99188     4  0.000456  0.000912   \n",
       "99189     4  0.000456  0.000912   \n",
       "99681     4  0.008398  0.016796   \n",
       "99682     4  0.008398  0.016796   \n",
       "\n",
       "                                                      vs        eg   ce  \n",
       "97328  (0.603359375817096, 0.7097142614528935, 0.7202...  0.068948  367  \n",
       "97329  (0.603359375817096, 0.7097142614528935, 0.7202...  0.068948  367  \n",
       "98352  (0.7443172638857475, 0.7041018239988872, 0.634...  0.068948  366  \n",
       "98354  (0.7443172638857475, 0.7041018239988872, 0.634...  0.068948  366  \n",
       "98637  (0.8193826640438713, 0.7135708033641588, 0.518...  0.068948  278  \n",
       "98638  (0.8193826640438713, 0.7135708033641588, 0.518...  0.068948  278  \n",
       "99188  (0.7714200650469009, 0.6586807089466523, 0.687...  0.068948  229  \n",
       "99189  (0.7714200650469009, 0.6586807089466523, 0.687...  0.068948  229  \n",
       "99681  (0.834515080445955, 0.6925085186587433, 0.5793...  0.068948  305  \n",
       "99682  (0.834515080445955, 0.6925085186587433, 0.5793...  0.068948  305  "
      ]
     },
     "execution_count": 11,
     "metadata": {},
     "output_type": "execute_result"
    }
   ],
   "source": [
    "df[df.duplicated(keep=False)][-10:]"
   ]
  },
  {
   "cell_type": "code",
   "execution_count": null,
   "metadata": {},
   "outputs": [],
   "source": []
  }
 ],
 "metadata": {
  "kernelspec": {
   "display_name": "Python 3",
   "language": "python",
   "name": "python3"
  },
  "language_info": {
   "codemirror_mode": {
    "name": "ipython",
    "version": 3
   },
   "file_extension": ".py",
   "mimetype": "text/x-python",
   "name": "python",
   "nbconvert_exporter": "python",
   "pygments_lexer": "ipython3",
   "version": "3.8.3"
  }
 },
 "nbformat": 4,
 "nbformat_minor": 4
}
